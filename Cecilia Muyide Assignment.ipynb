{
 "cells": [
  {
   "cell_type": "markdown",
   "id": "97d35367",
   "metadata": {},
   "source": [
    "1) Print all elements of a list using for loop"
   ]
  },
  {
   "cell_type": "code",
   "execution_count": 2,
   "id": "2a3ad62e",
   "metadata": {},
   "outputs": [
    {
     "name": "stdout",
     "output_type": "stream",
     "text": [
      "Tayo\n",
      "Segun\n",
      "Tobi\n",
      "Bayo\n",
      "Eniola\n"
     ]
    }
   ],
   "source": [
    "List= [\"Tayo\", \"Segun\",\"Tobi\",\"Bayo\", \"Eniola\"  ]\n",
    "for i in List:\n",
    "    print(i)"
   ]
  },
  {
   "cell_type": "markdown",
   "id": "7945f68f",
   "metadata": {},
   "source": [
    "2) A company decided to give bonus of 5% to employee if his/her year of service is more than 5\n",
    "years. Ask user for their salary and year of service and print the net bonus amount."
   ]
  },
  {
   "cell_type": "code",
   "execution_count": 57,
   "id": "58d6668c",
   "metadata": {},
   "outputs": [
    {
     "name": "stdout",
     "output_type": "stream",
     "text": [
      "Enter your years of service: 6\n",
      "Enter your salary: 100000\n",
      "net bonus is: 5000.0\n"
     ]
    }
   ],
   "source": [
    "    year_of_service= int(input(\"Enter your years of service: \"))\n",
    "    salary = int(input(\"Enter your salary: \"))\n",
    "    if year_of_service >= 5:\n",
    "        net_bonus = 5/100 * salary\n",
    "    else:\n",
    "            \"Not qualified for Bonus yet\"  \n",
    "    print(\"net bonus is:\" , net_bonus)\n",
    "        "
   ]
  },
  {
   "cell_type": "markdown",
   "id": "79485690",
   "metadata": {},
   "source": [
    "3) Take input of age of 3 people by user and determine oldest and youngest among them."
   ]
  },
  {
   "cell_type": "code",
   "execution_count": 76,
   "id": "da691423",
   "metadata": {},
   "outputs": [
    {
     "name": "stdout",
     "output_type": "stream",
     "text": [
      "Enter 3 different ages here: 6, 7, 8\n"
     ]
    },
    {
     "ename": "ValueError",
     "evalue": "invalid literal for int() with base 10: '6, 7, 8'",
     "output_type": "error",
     "traceback": [
      "\u001b[1;31m---------------------------------------------------------------------------\u001b[0m",
      "\u001b[1;31mValueError\u001b[0m                                Traceback (most recent call last)",
      "Input \u001b[1;32mIn [76]\u001b[0m, in \u001b[0;36m<cell line: 4>\u001b[1;34m()\u001b[0m\n\u001b[0;32m      1\u001b[0m Ages \u001b[38;5;241m=\u001b[39m []\n\u001b[0;32m      3\u001b[0m \u001b[38;5;66;03m# number of elements as input\u001b[39;00m\n\u001b[1;32m----> 4\u001b[0m n \u001b[38;5;241m=\u001b[39m \u001b[38;5;28;43mint\u001b[39;49m\u001b[43m(\u001b[49m\u001b[38;5;28;43minput\u001b[39;49m\u001b[43m(\u001b[49m\u001b[38;5;124;43m\"\u001b[39;49m\u001b[38;5;124;43mEnter 3 different ages here: \u001b[39;49m\u001b[38;5;124;43m\"\u001b[39;49m\u001b[43m)\u001b[49m\u001b[43m)\u001b[49m\n\u001b[0;32m      6\u001b[0m \u001b[38;5;28;01mfor\u001b[39;00m i \u001b[38;5;129;01min\u001b[39;00m \u001b[38;5;28mrange\u001b[39m(n):\n\u001b[0;32m      7\u001b[0m     each_age \u001b[38;5;241m=\u001b[39m \u001b[38;5;28mint\u001b[39m(i)\n",
      "\u001b[1;31mValueError\u001b[0m: invalid literal for int() with base 10: '6, 7, 8'"
     ]
    }
   ],
   "source": [
    "\n",
    "\n",
    "Ages = []\n",
    "  \n",
    "# number of elements as input\n",
    "n = int(input(\"Enter 3 different ages here: \"))\n",
    "     \n",
    "for i in range(n):\n",
    "    each_age = int(i)\n",
    "  \n",
    "    Ages.append(each_age) # adding the element\n",
    "      \n",
    "print(Ages)"
   ]
  },
  {
   "cell_type": "code",
   "execution_count": 74,
   "id": "71c7f8c5",
   "metadata": {},
   "outputs": [
    {
     "name": "stdout",
     "output_type": "stream",
     "text": [
      "Enter number of elements : 6, 7, 8\n"
     ]
    },
    {
     "ename": "ValueError",
     "evalue": "invalid literal for int() with base 10: '6, 7, 8'",
     "output_type": "error",
     "traceback": [
      "\u001b[1;31m---------------------------------------------------------------------------\u001b[0m",
      "\u001b[1;31mValueError\u001b[0m                                Traceback (most recent call last)",
      "Input \u001b[1;32mIn [74]\u001b[0m, in \u001b[0;36m<cell line: 5>\u001b[1;34m()\u001b[0m\n\u001b[0;32m      2\u001b[0m lst \u001b[38;5;241m=\u001b[39m []\n\u001b[0;32m      4\u001b[0m \u001b[38;5;66;03m# number of elements as input\u001b[39;00m\n\u001b[1;32m----> 5\u001b[0m n \u001b[38;5;241m=\u001b[39m \u001b[38;5;28;43mint\u001b[39;49m\u001b[43m(\u001b[49m\u001b[38;5;28;43minput\u001b[39;49m\u001b[43m(\u001b[49m\u001b[38;5;124;43m\"\u001b[39;49m\u001b[38;5;124;43mEnter number of elements : \u001b[39;49m\u001b[38;5;124;43m\"\u001b[39;49m\u001b[43m)\u001b[49m\u001b[43m)\u001b[49m\n\u001b[0;32m      7\u001b[0m \u001b[38;5;66;03m# iterating till the range\u001b[39;00m\n\u001b[0;32m      8\u001b[0m \u001b[38;5;28;01mfor\u001b[39;00m i \u001b[38;5;129;01min\u001b[39;00m \u001b[38;5;28mrange\u001b[39m(\u001b[38;5;241m0\u001b[39m, n):\n",
      "\u001b[1;31mValueError\u001b[0m: invalid literal for int() with base 10: '6, 7, 8'"
     ]
    }
   ],
   "source": [
    "\n",
    "# creating an empty list\n",
    "lst = []\n",
    "  \n",
    "# number of elements as input\n",
    "n = int(input(\"Enter number of elements : \"))\n",
    "  \n",
    "# iterating till the range\n",
    "for i in range(0, n):\n",
    "    ele = int(input())\n",
    "  \n",
    "    lst.append(ele) # adding the element\n",
    "      \n",
    "print(lst)"
   ]
  },
  {
   "cell_type": "code",
   "execution_count": null,
   "id": "d1358a48",
   "metadata": {},
   "outputs": [],
   "source": []
  }
 ],
 "metadata": {
  "kernelspec": {
   "display_name": "Python 3 (ipykernel)",
   "language": "python",
   "name": "python3"
  },
  "language_info": {
   "codemirror_mode": {
    "name": "ipython",
    "version": 3
   },
   "file_extension": ".py",
   "mimetype": "text/x-python",
   "name": "python",
   "nbconvert_exporter": "python",
   "pygments_lexer": "ipython3",
   "version": "3.9.12"
  }
 },
 "nbformat": 4,
 "nbformat_minor": 5
}
